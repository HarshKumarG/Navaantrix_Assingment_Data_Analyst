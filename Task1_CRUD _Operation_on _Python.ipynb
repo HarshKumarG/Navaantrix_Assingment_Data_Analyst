{
 "cells": [
  {
   "cell_type": "markdown",
   "id": "3d07e532",
   "metadata": {},
   "source": [
    "## 1. CRUD Operations on Mobile Sales Dataset\n",
    "\n",
    "#### Perform CRUD operations on a sales dataset stored in a CSV file. You can choose any Python \n",
    "#### library or tool for database operations or perform them directly on the CSV file. Implement \n",
    "#### the following operations:\n",
    "\n",
    "#### Create: Insert new records into the dataset.\n",
    "\n",
    "#### Read: Retrieve and display specific records from the dataset.\n",
    "\n",
    "#### Update: Modify existing records in the dataset.\n",
    "\n",
    "#### Delete: Remove specific records from the dataset"
   ]
  },
  {
   "cell_type": "code",
   "execution_count": 1,
   "id": "e5a16d8a",
   "metadata": {},
   "outputs": [
    {
     "name": "stdout",
     "output_type": "stream",
     "text": [
      "Defaulting to user installation because normal site-packages is not writeable\n",
      "Requirement already satisfied: mysql-connector-python in c:\\programdata\\anaconda3\\lib\\site-packages (8.0.33)\n",
      "Requirement already satisfied: protobuf<=3.20.3,>=3.11.0 in c:\\programdata\\anaconda3\\lib\\site-packages (from mysql-connector-python) (3.19.1)\n"
     ]
    }
   ],
   "source": [
    "get_ipython().system('pip install mysql-connector-python')"
   ]
  },
  {
   "cell_type": "code",
   "execution_count": 2,
   "id": "68b0027a",
   "metadata": {},
   "outputs": [],
   "source": [
    "#importing the installed library\n",
    "import mysql.connector\n"
   ]
  },
  {
   "cell_type": "code",
   "execution_count": 3,
   "id": "6048bd98",
   "metadata": {},
   "outputs": [],
   "source": [
    "#establishing the connection\n",
    "connection=mysql.connector.connect(\n",
    "host=\"localhost\",\n",
    "user=\"root\",\n",
    "password=\"root\",\n",
    "database=\"ababa\")"
   ]
  },
  {
   "cell_type": "code",
   "execution_count": 4,
   "id": "edd907df",
   "metadata": {},
   "outputs": [
    {
     "name": "stdout",
     "output_type": "stream",
     "text": [
      "Connected to database successfully\n"
     ]
    }
   ],
   "source": [
    "# to check whether connection is esblished or not\n",
    "if connection.is_connected:\n",
    "    print(\"Connected to database successfully\")\n",
    "else:\n",
    "    print(\"Not Connected\")"
   ]
  },
  {
   "cell_type": "code",
   "execution_count": 5,
   "id": "8a9510d4",
   "metadata": {},
   "outputs": [],
   "source": [
    "# Creating a cursor object\n",
    "cursor=connection.cursor()"
   ]
  },
  {
   "cell_type": "code",
   "execution_count": 6,
   "id": "9c36cc64",
   "metadata": {},
   "outputs": [
    {
     "name": "stdout",
     "output_type": "stream",
     "text": [
      "ababa\n",
      "crad_info\n",
      "department\n",
      "harsh\n",
      "information_schema\n",
      "mysql\n",
      "performance_schema\n",
      "sakila\n",
      "studentregistration\n",
      "sys\n",
      "test\n",
      "user\n",
      "world\n"
     ]
    }
   ],
   "source": [
    "#query to show database \n",
    "cursor.execute(\"show databases\")\n",
    "databases=cursor.fetchall()\n",
    "for i in databases:\n",
    "    print(i[0])"
   ]
  },
  {
   "cell_type": "code",
   "execution_count": 7,
   "id": "5c0dc166",
   "metadata": {},
   "outputs": [
    {
     "name": "stdout",
     "output_type": "stream",
     "text": [
      "Successfully selected the databse\n"
     ]
    }
   ],
   "source": [
    "# to use desired database\n",
    "cursor.execute(\"use ababa\")\n",
    "print(\"Successfully selected the databse\")"
   ]
  },
  {
   "cell_type": "code",
   "execution_count": 8,
   "id": "ee327a4a",
   "metadata": {},
   "outputs": [
    {
     "name": "stdout",
     "output_type": "stream",
     "text": [
      "Tables available in selected database\n",
      "department\n",
      "employee\n",
      "job\n",
      "location\n",
      "mobiles\n"
     ]
    }
   ],
   "source": [
    "# show the available tables in databse\n",
    "cursor.execute(\"show tables\")\n",
    "tables=cursor.fetchall()\n",
    "print(\"Tables available in selected database\")\n",
    "for i in tables:\n",
    "    print(i[0])"
   ]
  },
  {
   "cell_type": "code",
   "execution_count": 9,
   "id": "f8c4423c",
   "metadata": {},
   "outputs": [
    {
     "name": "stdout",
     "output_type": "stream",
     "text": [
      "records are present in table\n",
      "(1, 'Jenny Noble', 'Kolkata', 'Same Day Delivery', 'Debit Card', 15350.23, 'Screen Protector', 2)\n",
      "(2, 'Leah Bender', 'Bangalore', 'Express Shipping', 'Credit Card', 4946.78, 'Earphones', 2)\n",
      "(3, 'Andrew Molina', 'Mumbai', 'Express Shipping', 'Credit Card', 39087.04, 'Phone Case', 4)\n",
      "(4, 'Melissa Jensen', 'Kolkata', 'Standard Shipping', 'UPI', 9354.04, 'Screen Protector', 3)\n",
      "(5, 'Sylvia Stephens', 'Kolkata', 'Standard Shipping', 'Debit Card', 38694.64, 'Mobile Phone', 1)\n"
     ]
    }
   ],
   "source": [
    "# show records in Mobiles table\n",
    "cursor.execute(\"select * from mobiles limit 5\")\n",
    "r1=cursor.fetchall()\n",
    "print(\"records are present in table\")\n",
    "for i in r1:\n",
    "    print(i)"
   ]
  },
  {
   "cell_type": "markdown",
   "id": "5d99206d",
   "metadata": {},
   "source": [
    "#### 1.Create: Insert new records into the dataset."
   ]
  },
  {
   "cell_type": "code",
   "execution_count": 10,
   "id": "c0eada50",
   "metadata": {},
   "outputs": [
    {
     "name": "stdout",
     "output_type": "stream",
     "text": [
      "5 records inserted successfully\n"
     ]
    }
   ],
   "source": [
    "# inserting 5 records in mobiles table\n",
    "query=(\"insert into mobiles (customer_id,customer_name,city,ship_mode,mode_of_payment,amount,item,quantity) values(%s,%s,%s,%s,%s,%s,%s,%s)\")\n",
    "values=[(501,\"Rahul Kashyap\",\"Mumbai\",\"Express Shipping\",\"UPI\",49999,\"Apple Mobile\",2),\n",
    "(502,\"Harsh Gupta\",\"Banglore\",\"Same Day Delivery\",\"Debit Card\",5500,\"Boat Earphone\",3),\n",
    "(503,\"Neha Chauhan\",\"Kolkata\",\"Standard Shipping\",\"Credit Card\",84000,\"Samsung Phone\",2),\n",
    "(504,\"Pankaj Singh\",\"Delhi\",\"Same Day Delivery\",\"Net Banking\",40120,\"Screen Protector\",10),\n",
    "(505,\"Suraj Vishwakarma\",\"Banglore\",\"Standard Shipping\",\"Net Banking\",5500,\"Phone Case\",3)]\n",
    "cursor.executemany(query,values)\n",
    "connection.commit()\n",
    "print(\"5 records inserted successfully\")"
   ]
  },
  {
   "cell_type": "markdown",
   "id": "bb2f240d",
   "metadata": {},
   "source": [
    "#### 2.Read Operation (Retrieve and display specific records from the dataset)"
   ]
  },
  {
   "cell_type": "code",
   "execution_count": 11,
   "id": "2af7e57e",
   "metadata": {},
   "outputs": [
    {
     "name": "stdout",
     "output_type": "stream",
     "text": [
      "5 recents records inserted where customer_id 501 to 505\n",
      "(501, 'Rahul Kashyap', 'Mumbai', 'Express Shipping', 'UPI', 49999.0, 'Apple Mobile', 2)\n",
      "(502, 'Harsh Gupta', 'Banglore', 'Same Day Delivery', 'Debit Card', 5500.0, 'Boat Earphone', 3)\n",
      "(503, 'Neha Chauhan', 'Kolkata', 'Standard Shipping', 'Credit Card', 84000.0, 'Samsung Phone', 2)\n",
      "(504, 'Pankaj Singh', 'Delhi', 'Same Day Delivery', 'Net Banking', 40120.0, 'Screen Protector', 10)\n",
      "(505, 'Suraj Vishwakarma', 'Banglore', 'Standard Shipping', 'Net Banking', 5500.0, 'Phone Case', 3)\n"
     ]
    }
   ],
   "source": [
    "# Retrieve 5 recents records inserted Earlier (customer_id 501 to 505)\n",
    "cursor.execute(\"select * from mobiles where customer_id between 501 and 505\")\n",
    "rec=cursor.fetchall()\n",
    "print(\"5 recents records inserted where customer_id 501 to 505\")\n",
    "for i in rec:\n",
    "    print(i)"
   ]
  },
  {
   "cell_type": "code",
   "execution_count": 12,
   "id": "bd16abec",
   "metadata": {},
   "outputs": [
    {
     "name": "stdout",
     "output_type": "stream",
     "text": [
      "Found!,here is the expected output where ship_mode is Express Shipping and mode_of_payment is UPI\n",
      "(36, 'Mark Wagner', 'Kolkata', 'Express Shipping', 'UPI', 24686.73, 'Mobile Phone', 5)\n",
      "(59, 'James Bennett', 'Delhi', 'Express Shipping', 'UPI', 10678.78, 'Power Bank', 2)\n",
      "(79, 'Mason Gibson', 'Delhi', 'Express Shipping', 'UPI', 31661.06, 'Power Bank', 1)\n",
      "(95, 'Dan Gardner', 'Delhi', 'Express Shipping', 'UPI', 35081.11, 'Screen Protector', 2)\n",
      "(100, 'Amber Bautista', 'Delhi', 'Express Shipping', 'UPI', 9076.0, 'Power Bank', 3)\n",
      "(501, 'Rahul Kashyap', 'Mumbai', 'Express Shipping', 'UPI', 49999.0, 'Apple Mobile', 2)\n"
     ]
    }
   ],
   "source": [
    "# Retrieve records where ship_mode is Express Shipping and mode_of_payment is UPI\n",
    "cursor.execute(\"select * from mobiles where ship_mode='Express Shipping' and mode_of_payment='UPI'\")\n",
    "sm=cursor.fetchall()\n",
    "print(\"Found!,here is the expected output where ship_mode is Express Shipping and mode_of_payment is UPI\")\n",
    "for i in sm:\n",
    "    print(i)"
   ]
  },
  {
   "cell_type": "code",
   "execution_count": 13,
   "id": "3059c2d3",
   "metadata": {},
   "outputs": [
    {
     "name": "stdout",
     "output_type": "stream",
     "text": [
      "Here is total amount for each item\n",
      "('Charger', 556225.49)\n",
      "('Mobile Phone', 509133.3)\n",
      "('Screen Protector', 453000.76)\n",
      "('Phone Case', 410628.95)\n",
      "('Power Bank', 307308.13)\n",
      "('Earphones', 267691.31)\n",
      "('Samsung Phone', 84000.0)\n",
      "('Apple Mobile', 49999.0)\n",
      "('Boat Earphone', 5500.0)\n"
     ]
    }
   ],
   "source": [
    "# Retrieve the Total amount for each item in descending order\n",
    "cursor.execute(\"select Item,round(sum(amount),2) as Total_Amount from mobiles group by item order by Total_Amount desc\")\n",
    "Ta=cursor.fetchall()\n",
    "print(\"Here is total amount for each item\")\n",
    "for i in Ta:\n",
    "    print(i)"
   ]
  },
  {
   "cell_type": "code",
   "execution_count": 14,
   "id": "caa54568",
   "metadata": {},
   "outputs": [
    {
     "name": "stdout",
     "output_type": "stream",
     "text": [
      "Top 3 customers are...\n",
      "(84000.0, 'Neha Chauhan')\n",
      "(49999.0, 'Rahul Kashyap')\n",
      "(48897.66, 'Catherine Valencia')\n"
     ]
    }
   ],
   "source": [
    "# retrieve the top 3 customers who mades the high sale amount\n",
    "cursor.execute(\"select distinct Amount,customer_name from mobiles order by amount desc limit 3\")\n",
    "TC=cursor.fetchall()\n",
    "print(\"Top 3 customers are...\")\n",
    "for i in TC:\n",
    "    print(i)"
   ]
  },
  {
   "cell_type": "markdown",
   "id": "1fec9cb3",
   "metadata": {},
   "source": [
    "#### 3.Update Operation (Modify existing records in the dataset.)"
   ]
  },
  {
   "cell_type": "code",
   "execution_count": 15,
   "id": "8d92654f",
   "metadata": {},
   "outputs": [
    {
     "name": "stdout",
     "output_type": "stream",
     "text": [
      "Successfully city updated!\n"
     ]
    }
   ],
   "source": [
    "# Update the city from Delhi to Pune where customer_name is Mason Gibson\n",
    "cursor.execute(\"update mobiles set city='Pune' where customer_name='Mason Gibson' \")\n",
    "connection.commit()\n",
    "print(\"Successfully city updated!\")\n"
   ]
  },
  {
   "cell_type": "code",
   "execution_count": 16,
   "id": "f05ccfe1",
   "metadata": {},
   "outputs": [
    {
     "name": "stdout",
     "output_type": "stream",
     "text": [
      "Successfully customer name is updated!\n"
     ]
    }
   ],
   "source": [
    "# Update the customer name as Abhishekh where amount is greater than 50k and ship mode is Standard Shipping\n",
    "cursor.execute(\"update mobiles set customer_name='Abhishekh' where amount>50000 and ship_mode='Standard Shipping' \")\n",
    "connection.commit()\n",
    "print(\"Successfully customer name is updated!\")"
   ]
  },
  {
   "cell_type": "code",
   "execution_count": 17,
   "id": "f5d66ed2",
   "metadata": {},
   "outputs": [
    {
     "name": "stdout",
     "output_type": "stream",
     "text": [
      "Successfully customer id is updated!\n"
     ]
    }
   ],
   "source": [
    "# Update the customer_id as 1000 where customer name is Mark Bond\n",
    "cursor.execute(\"update mobiles set customer_id=1000 where customer_name='Mark Bond' \")\n",
    "connection.commit()\n",
    "print(\"Successfully customer id is updated!\")"
   ]
  },
  {
   "cell_type": "markdown",
   "id": "51dbb7e1",
   "metadata": {},
   "source": [
    "#### 4.Delete Operation (Remove specific records from the dataset):"
   ]
  },
  {
   "cell_type": "code",
   "execution_count": 19,
   "id": "5b688ecb",
   "metadata": {},
   "outputs": [
    {
     "name": "stdout",
     "output_type": "stream",
     "text": [
      "Deleted record Successfully!\n"
     ]
    }
   ],
   "source": [
    "# delete the records where customer_id is 40\n",
    "cursor.execute(\"delete from mobiles where customer_id=40 \")\n",
    "connection.commit()\n",
    "print(\"Deleted record Successfully!\")"
   ]
  },
  {
   "cell_type": "code",
   "execution_count": 20,
   "id": "032ca19e",
   "metadata": {},
   "outputs": [
    {
     "name": "stdout",
     "output_type": "stream",
     "text": [
      "Deleted record Successfully!\n"
     ]
    }
   ],
   "source": [
    "# delete the records where customer_id is 80\n",
    "cursor.execute(\"delete from mobiles where customer_id=80 \")\n",
    "connection.commit()\n",
    "print(\"Deleted record Successfully!\")"
   ]
  },
  {
   "cell_type": "code",
   "execution_count": null,
   "id": "787f43f2",
   "metadata": {},
   "outputs": [],
   "source": []
  }
 ],
 "metadata": {
  "kernelspec": {
   "display_name": "Python 3 (ipykernel)",
   "language": "python",
   "name": "python3"
  },
  "language_info": {
   "codemirror_mode": {
    "name": "ipython",
    "version": 3
   },
   "file_extension": ".py",
   "mimetype": "text/x-python",
   "name": "python",
   "nbconvert_exporter": "python",
   "pygments_lexer": "ipython3",
   "version": "3.9.12"
  }
 },
 "nbformat": 4,
 "nbformat_minor": 5
}
