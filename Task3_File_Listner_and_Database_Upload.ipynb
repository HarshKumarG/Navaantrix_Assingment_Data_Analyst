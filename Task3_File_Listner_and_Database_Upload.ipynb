{
 "cells": [
  {
   "cell_type": "markdown",
   "id": "5fffcb77",
   "metadata": {},
   "source": [
    "## 3. File Listener and Database Upload\n",
    "#### Write a Python script that acts as a file listener, monitoring a specific directory for file uploads. Upon detecting a new file, perform the upload of its content into a database. Use any database of your choice. Provide error handling and ensure that the script runs continuously."
   ]
  },
  {
   "cell_type": "code",
   "execution_count": 1,
   "id": "27c27230",
   "metadata": {},
   "outputs": [
    {
     "name": "stdout",
     "output_type": "stream",
     "text": [
      "Defaulting to user installation because normal site-packages is not writeable\n",
      "Requirement already satisfied: mysql-connector-python in c:\\programdata\\anaconda3\\lib\\site-packages (8.0.33)\n",
      "Requirement already satisfied: protobuf<=3.20.3,>=3.11.0 in c:\\programdata\\anaconda3\\lib\\site-packages (from mysql-connector-python) (3.19.1)\n",
      "Defaulting to user installation because normal site-packages is not writeable\n",
      "Requirement already satisfied: watchdog in c:\\programdata\\anaconda3\\lib\\site-packages (2.1.6)\n"
     ]
    }
   ],
   "source": [
    "!pip install mysql-connector-python\n",
    "!pip install watchdog"
   ]
  },
  {
   "cell_type": "code",
   "execution_count": null,
   "id": "d82537eb",
   "metadata": {},
   "outputs": [],
   "source": [
    "## Watchdo :- A library wich is used for listening to and monitoring system events like changes if happen."
   ]
  },
  {
   "cell_type": "code",
   "execution_count": 2,
   "id": "f70f652b",
   "metadata": {},
   "outputs": [],
   "source": [
    "import os\n",
    "import time\n",
    "import mysql.connector\n",
    "from watchdog.observers import Observer\n",
    "from watchdog.events import FileSystemEventHandler\n",
    "import shutil"
   ]
  },
  {
   "cell_type": "code",
   "execution_count": null,
   "id": "68987732",
   "metadata": {},
   "outputs": [],
   "source": [
    "## Observer : allows you to watch for changes in directories.\n",
    "\n",
    "## FileSystemEventHandler: provides methods for even handling like modification, deleation and creation\n",
    "                           ## this is useful for APIs\n",
    "## Shutil : Used to copy file from one to other."
   ]
  },
  {
   "cell_type": "code",
   "execution_count": 3,
   "id": "0151e58b",
   "metadata": {},
   "outputs": [],
   "source": [
    "# Database configuration \n",
    "db_config = {\n",
    "    'user': 'root',         \n",
    "    'password': 'root', \n",
    "    'host': 'localhost',               \n",
    "    'database': 'file_upload_db',      \n",
    "}"
   ]
  },
  {
   "cell_type": "code",
   "execution_count": null,
   "id": "2a4f9528",
   "metadata": {},
   "outputs": [
    {
     "name": "stdout",
     "output_type": "stream",
     "text": [
      "Connected to the database.\n",
      "Monitoring directory: C:\\Users\\harsh\\OneDrive\\Desktop\\python1\n",
      "Permission error: [Errno 13] Permission denied: 'C:\\\\Users\\\\harsh\\\\OneDrive\\\\Desktop\\\\python1\\\\New Text Document.txt'\n",
      "Permission error: [Errno 13] Permission denied: 'C:\\\\Users\\\\harsh\\\\OneDrive\\\\Desktop\\\\python1\\\\New Text Document.txt'\n",
      "Permission error: [Errno 13] Permission denied: 'C:\\\\Users\\\\harsh\\\\OneDrive\\\\Desktop\\\\python1\\\\New Microsoft PowerPoint Presentation.pptx'\n",
      "Permission error: [Errno 13] Permission denied: 'C:\\\\Users\\\\harsh\\\\OneDrive\\\\Desktop\\\\python1\\\\New Microsoft Excel Worksheet.xlsx'\n",
      "Permission error: [Errno 13] Permission denied: 'C:\\\\Users\\\\harsh\\\\OneDrive\\\\Desktop\\\\python1\\\\~ew Microsoft Excel Worksheet.tmp'\n",
      "File 'New Microsoft Excel Worksheet.xlsx~RF19a17278.TMP' uploaded to the database.\n",
      "Permission error: [Errno 13] Permission denied: 'C:\\\\Users\\\\harsh\\\\OneDrive\\\\Desktop\\\\python1\\\\New Microsoft Excel Worksheet (2).xlsx'\n",
      "Permission error: [Errno 13] Permission denied: 'C:\\\\Users\\\\harsh\\\\OneDrive\\\\Desktop\\\\python1\\\\~ew Microsoft Excel Worksheet (2).tmp'\n",
      "File 'New Microsoft Excel Worksheet (2).xlsx~RF19a20551.TMP' uploaded to the database.\n",
      "File 'New Text Document.txt' uploaded to the database.\n",
      "Permission error: [Errno 13] Permission denied\n",
      "Permission error: [Errno 13] Permission denied: 'C:\\\\Users\\\\harsh\\\\OneDrive\\\\Desktop\\\\python1\\\\New Microsoft Excel Worksheet.xlsx'\n",
      "Permission error: [Errno 13] Permission denied: 'C:\\\\Users\\\\harsh\\\\OneDrive\\\\Desktop\\\\python1\\\\~ew Microsoft Excel Worksheet.tmp'\n",
      "File 'New Microsoft Excel Worksheet.xlsx~RF19a55df2.TMP' uploaded to the database.\n",
      "Permission error: [Errno 13] Permission denied: 'C:\\\\Users\\\\harsh\\\\OneDrive\\\\Desktop\\\\python1\\\\New Microsoft Excel Worksheet.xlsx'\n",
      "Permission error: [Errno 13] Permission denied: 'C:\\\\Users\\\\harsh\\\\OneDrive\\\\Desktop\\\\python1\\\\~ew Microsoft Excel Worksheet.tmp'\n",
      "File 'New Microsoft Excel Worksheet.xlsx~RF19a59771.TMP' uploaded to the database.\n"
     ]
    }
   ],
   "source": [
    "# File Listener Handler\n",
    "class FileHandler(FileSystemEventHandler):\n",
    "    def __init__(self, db_connection):\n",
    "        self.db_connection = db_connection\n",
    "        self.fallback_directory = r\"C:\\Temp\"  # Fallback directory for files with access issues\n",
    "\n",
    "    def on_created(self, event):\n",
    "        if not event.is_directory:\n",
    "            try:\n",
    "                file_path = event.src_path\n",
    "                filename = os.path.basename(file_path)\n",
    "\n",
    "                # Check if the file is accessible\n",
    "                if not os.access(file_path, os.R_OK):\n",
    "                    print(f\"Permission error: Cannot read file '{file_path}'. Attempting to move to fallback directory.\")\n",
    "                    file_path = self.move_to_fallback(file_path)\n",
    "                \n",
    "                # Attempt to open and read the file\n",
    "                with open(file_path, 'rb') as file:\n",
    "                    file_content = file.read()\n",
    "\n",
    "                # Insert file into the database\n",
    "                cursor = self.db_connection.cursor()\n",
    "                query = \"INSERT INTO uploaded_files (filename, content) VALUES (%s, %s)\"\n",
    "                cursor.execute(query, (filename, file_content))\n",
    "                self.db_connection.commit()\n",
    "\n",
    "                print(f\"File '{filename}' uploaded to the database.\")\n",
    "\n",
    "            except PermissionError as pe:\n",
    "                print(f\"Permission error: {pe}\")\n",
    "            except FileNotFoundError as fnfe:\n",
    "                print(f\"File not found: {fnfe}\")\n",
    "            except IOError as ioe:\n",
    "                print(f\"IO error occurred: {ioe}\")\n",
    "            except mysql.connector.Error as db_err:\n",
    "                print(f\"Database error: {db_err}\")\n",
    "            except Exception as e:\n",
    "                print(f\"Unexpected error occurred while uploading file '{filename}': {str(e)}\")\n",
    "\n",
    "    def move_to_fallback(self, file_path):\n",
    "        \"\"\"Move the file to a fallback directory if there are access issues.\"\"\"\n",
    "        try:\n",
    "            if not os.path.exists(self.fallback_directory):\n",
    "                os.makedirs(self.fallback_directory)\n",
    "            new_path = os.path.join(self.fallback_directory, os.path.basename(file_path))\n",
    "            shutil.move(file_path, new_path)\n",
    "            print(f\"File moved to fallback directory: {new_path}\")\n",
    "            return new_path\n",
    "        except Exception as e:\n",
    "            raise PermissionError(f\"Failed to move file to fallback directory: {e}\")\n",
    "\n",
    "def main():\n",
    "    # Establish database connection\n",
    "    try:\n",
    "        db_connection = mysql.connector.connect(**db_config)\n",
    "        print(\"Connected to the database.\")\n",
    "    except mysql.connector.Error as err:\n",
    "        print(f\"Error: {err}\")\n",
    "        return\n",
    "\n",
    "    # Directory to monitor\n",
    "    directory_to_watch = r\"C:\\Users\\harsh\\OneDrive\\Desktop\\python1\"\n",
    "\n",
    "    # Setup file listener\n",
    "    event_handler = FileHandler(db_connection)\n",
    "    observer = Observer()\n",
    "    observer.schedule(event_handler, path=directory_to_watch, recursive=False)\n",
    "\n",
    "    # Start monitoring\n",
    "    observer.start()\n",
    "    print(f\"Monitoring directory: {directory_to_watch}\")\n",
    "\n",
    "    try:\n",
    "        while True:\n",
    "            time.sleep(1)\n",
    "    except KeyboardInterrupt:\n",
    "        observer.stop()\n",
    "        print(\"Stopping file listener...\")\n",
    "\n",
    "    observer.join()\n",
    "    db_connection.close()\n",
    "\n",
    "if __name__ == \"__main__\":\n",
    "    main()"
   ]
  },
  {
   "cell_type": "markdown",
   "id": "53ab5d24",
   "metadata": {},
   "source": [
    "#### Goal\n",
    "###### Our script is tasked with monitoring a specific derectory for newly files.    The goal is to uploading file to the database."
   ]
  },
  {
   "cell_type": "markdown",
   "id": "5f932a71",
   "metadata": {},
   "source": [
    "###### Our scripts is like doing the work as guarding a Specific folder, like Guardian.   Whenever a new file appears , then gently picks it up and carries it to a safe place(Backup Folder). I mean in the database.  Database celebrates each new arrival , never takes his eyes off from new files."
   ]
  },
  {
   "cell_type": "code",
   "execution_count": null,
   "id": "10a5f71f",
   "metadata": {},
   "outputs": [],
   "source": []
  },
  {
   "cell_type": "code",
   "execution_count": null,
   "id": "1e523127",
   "metadata": {},
   "outputs": [],
   "source": []
  },
  {
   "cell_type": "code",
   "execution_count": null,
   "id": "7563fee5",
   "metadata": {},
   "outputs": [],
   "source": []
  },
  {
   "cell_type": "code",
   "execution_count": null,
   "id": "d611fc1b",
   "metadata": {},
   "outputs": [],
   "source": []
  },
  {
   "cell_type": "code",
   "execution_count": null,
   "id": "2d9ec31c",
   "metadata": {},
   "outputs": [],
   "source": []
  }
 ],
 "metadata": {
  "kernelspec": {
   "display_name": "Python 3 (ipykernel)",
   "language": "python",
   "name": "python3"
  },
  "language_info": {
   "codemirror_mode": {
    "name": "ipython",
    "version": 3
   },
   "file_extension": ".py",
   "mimetype": "text/x-python",
   "name": "python",
   "nbconvert_exporter": "python",
   "pygments_lexer": "ipython3",
   "version": "3.9.12"
  }
 },
 "nbformat": 4,
 "nbformat_minor": 5
}
